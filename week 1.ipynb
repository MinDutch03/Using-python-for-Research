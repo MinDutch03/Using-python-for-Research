{
 "cells": [
  {
   "cell_type": "code",
   "execution_count": 11,
   "id": "081d8fd0",
   "metadata": {},
   "outputs": [
    {
     "data": {
      "text/plain": [
       "{'J': 1,\n",
       " 'i': 5,\n",
       " 'm': 1,\n",
       " 'q': 1,\n",
       " 'u': 3,\n",
       " 'c': 1,\n",
       " 'k': 1,\n",
       " 'l': 3,\n",
       " 'y': 1,\n",
       " 'r': 2,\n",
       " 'e': 8,\n",
       " 'a': 4,\n",
       " 'z': 1,\n",
       " 'd': 1,\n",
       " 't': 4,\n",
       " 'h': 2,\n",
       " 'b': 1,\n",
       " 'f': 1,\n",
       " 'g': 1,\n",
       " 'o': 1,\n",
       " 'w': 1,\n",
       " 'n': 2,\n",
       " 's': 2,\n",
       " 'x': 1,\n",
       " 'p': 1,\n",
       " 'v': 1}"
      ]
     },
     "execution_count": 11,
     "metadata": {},
     "output_type": "execute_result"
    }
   ],
   "source": [
    "'''\n",
    "    HOMEWORK\n",
    "'''\n",
    "import string\n",
    "\n",
    "alphabet = string.ascii_letters\n",
    "\n",
    "#EXERCISE 1B\n",
    "\n",
    "\"\"\"\n",
    "The lower and upper cases of the English alphabet is stored as alphabet.\n",
    "Consider the sentence\n",
    "'Jim quickly realized that the beautiful gowns are expensive'.\n",
    "Create a dictionary count_letters with keys consisting of each unique\n",
    "letter in the sentence and values consisting of the number of times each\n",
    "letter is used in this sentence.\n",
    "Count both upper case and lower case letters separately in the dictionary.\n",
    "\"\"\"\n",
    "\n",
    "sentence = 'Jim quickly realized that the beautiful gowns are expensive'\n",
    "\n",
    "count_letters = {} #empty dictionary\n",
    "\n",
    "\n",
    "def counter(input_string):\n",
    "    for letter in sentence: #iterates through every letter in sentence\n",
    "    \n",
    "        if letter in alphabet: #checks whether letter in in alphabet\n",
    "        \n",
    "            if letter in count_letters: #if letter is in the alphabet, it further checks whether it is already in the dictionary\n",
    "            \n",
    "                count_letters[letter] += 1 #If so, it's count value is incremented by 1\n",
    "\n",
    "            else:\n",
    "            \n",
    "                count_letters[letter] = 1 #if the letter is not in the dictionary, its value is set to 1\n",
    "        \n",
    "    return count_letters\n",
    "counter(sentence)"
   ]
  },
  {
   "cell_type": "code",
   "execution_count": 14,
   "id": "63db722b",
   "metadata": {},
   "outputs": [
    {
     "name": "stdout",
     "output_type": "stream",
     "text": [
      "{'J': 3, 'i': 15, 'm': 3, 'q': 3, 'u': 9, 'c': 3, 'k': 3, 'l': 9, 'y': 3, 'r': 6, 'e': 24, 'a': 12, 'z': 3, 'd': 3, 't': 12, 'h': 6, 'b': 3, 'f': 3, 'g': 3, 'o': 3, 'w': 3, 'n': 6, 's': 6, 'x': 3, 'p': 3, 'v': 3}\n",
      "[('t', 2)]\n"
     ]
    }
   ],
   "source": [
    "address = '1863 Gettysburg'\n",
    "\n",
    "address_count = counter(address)\n",
    "\n",
    "print(address_count)\n",
    "\n",
    "#-------------------------------------------------\n",
    "\n",
    "#1e\n",
    "#What is the most common letter used in the Gettysburg Address?\n",
    "#Store this letter as most_frequent_letter, and print your answer.\n",
    "\n",
    "from collections import Counter\n",
    "\n",
    "most_frequent_letter = Counter(address).most_common(1)\n",
    "\n",
    "print(most_frequent_letter)"
   ]
  },
  {
   "cell_type": "code",
   "execution_count": null,
   "id": "de63f082",
   "metadata": {},
   "outputs": [],
   "source": []
  }
 ],
 "metadata": {
  "kernelspec": {
   "display_name": "Python 3 (ipykernel)",
   "language": "python",
   "name": "python3"
  },
  "language_info": {
   "codemirror_mode": {
    "name": "ipython",
    "version": 3
   },
   "file_extension": ".py",
   "mimetype": "text/x-python",
   "name": "python",
   "nbconvert_exporter": "python",
   "pygments_lexer": "ipython3",
   "version": "3.9.7"
  }
 },
 "nbformat": 4,
 "nbformat_minor": 5
}
